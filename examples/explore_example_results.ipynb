{
 "cells": [
  {
   "cell_type": "markdown",
   "id": "422359ea",
   "metadata": {},
   "source": [
    "# Explore the results of the given examples"
   ]
  },
  {
   "cell_type": "markdown",
   "id": "9c635d2b",
   "metadata": {},
   "source": [
    "### Import the required packages and disable some expected warnings"
   ]
  },
  {
   "cell_type": "code",
   "execution_count": null,
   "id": "ae1e1383",
   "metadata": {},
   "outputs": [],
   "source": [
    "import logging\n",
    "\n",
    "from morphio import set_ignored_warning\n",
    "from morphio import Warning\n",
    "from neurom import load_morphology\n",
    "from neurom.view import plotly_impl\n",
    "\n",
    "logging.getLogger(\"neurots.generate.grower\").disabled = True\n",
    "set_ignored_warning([Warning.zero_diameter], True)"
   ]
  },
  {
   "cell_type": "markdown",
   "id": "446f13ec",
   "metadata": {},
   "source": [
    "### Run the example extract_synthesis_inputs.py and plot the result"
   ]
  },
  {
   "cell_type": "code",
   "execution_count": null,
   "id": "6c0c0a68",
   "metadata": {},
   "outputs": [],
   "source": [
    "%run extract_synthesis_inputs.py\n",
    "\n",
    "morph = load_morphology(\"results_extract_synthesis_inputs/generated_cell.swc\")\n",
    "_ = plotly_impl.plot_morph3d(morph, inline=True)"
   ]
  },
  {
   "cell_type": "markdown",
   "id": "9c1cffa9",
   "metadata": {},
   "source": [
    "### Run the example synthesize_single_neuron.py and plot the result"
   ]
  },
  {
   "cell_type": "code",
   "execution_count": null,
   "id": "87f8de61",
   "metadata": {},
   "outputs": [],
   "source": [
    "%run synthesize_single_neuron.py\n",
    "\n",
    "morph = load_morphology(\"results_single_neuron/generated_cell.swc\")\n",
    "_ = plotly_impl.plot_morph3d(morph, inline=True)"
   ]
  },
  {
   "cell_type": "markdown",
   "id": "4c931058",
   "metadata": {},
   "source": [
    "### Run the example synthesize_neurons.py and plot the result"
   ]
  },
  {
   "cell_type": "code",
   "execution_count": null,
   "id": "1d7f1f5e",
   "metadata": {},
   "outputs": [],
   "source": [
    "%run synthesize_neurons.py\n",
    "\n",
    "for i in range(10):\n",
    "    morph = load_morphology(f\"results_neurons/generated_cell_{i}.swc\")\n",
    "    _ = plotly_impl.plot_morph3d(morph, inline=True)"
   ]
  },
  {
   "cell_type": "markdown",
   "id": "ff8dba00",
   "metadata": {},
   "source": [
    "### Run the example synthesize_neuron_with_diameters.py and plot the result"
   ]
  },
  {
   "cell_type": "code",
   "execution_count": null,
   "id": "05a7f36e",
   "metadata": {},
   "outputs": [],
   "source": [
    "%run synthesize_neuron_with_diameters.py\n",
    "\n",
    "morph = load_morphology(\"results_neuron_with_diameters/generated_cell.swc\")\n",
    "_ = plotly_impl.plot_morph3d(morph, inline=True)"
   ]
  },
  {
   "cell_type": "markdown",
   "id": "5a333e8e",
   "metadata": {},
   "source": [
    "### Run the example synthesize_neuron_external_diameter.py and plot the result"
   ]
  },
  {
   "cell_type": "code",
   "execution_count": null,
   "id": "70b7e785",
   "metadata": {},
   "outputs": [],
   "source": [
    "%run synthesize_neuron_external_diameter.py\n",
    "\n",
    "morph = load_morphology(\"results_neuron_external_diameter/generated_cell.swc\")\n",
    "_ = plotly_impl.plot_morph3d(morph, inline=True)"
   ]
  }
 ],
 "metadata": {
  "kernelspec": {
   "display_name": "Python 3",
   "language": "python",
   "name": "python3"
  },
  "language_info": {
   "codemirror_mode": {
    "name": "ipython",
    "version": 3
   },
   "file_extension": ".py",
   "mimetype": "text/x-python",
   "name": "python",
   "nbconvert_exporter": "python",
   "pygments_lexer": "ipython3",
   "version": "3.8.10"
  }
 },
 "nbformat": 4,
 "nbformat_minor": 5
}
